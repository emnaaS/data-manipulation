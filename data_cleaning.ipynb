{
  "nbformat": 4,
  "nbformat_minor": 0,
  "metadata": {
    "colab": {
      "provenance": [],
      "authorship_tag": "ABX9TyMlqKNTQpEpS6fHAB4N0Ep5",
      "include_colab_link": true
    },
    "kernelspec": {
      "name": "python3",
      "display_name": "Python 3"
    },
    "language_info": {
      "name": "python"
    }
  },
  "cells": [
    {
      "cell_type": "markdown",
      "metadata": {
        "id": "view-in-github",
        "colab_type": "text"
      },
      "source": [
        "<a href=\"https://colab.research.google.com/github/emnaaS/data-manipulation/blob/main/data_cleaning.ipynb\" target=\"_parent\"><img src=\"https://colab.research.google.com/assets/colab-badge.svg\" alt=\"Open In Colab\"/></a>"
      ]
    },
    {
      "cell_type": "code",
      "execution_count": 26,
      "metadata": {
        "colab": {
          "base_uri": "https://localhost:8080/"
        },
        "id": "m0uT96W5cdBs",
        "outputId": "3754be77-f01f-4133-cd23-7167de36dc6c"
      },
      "outputs": [
        {
          "output_type": "stream",
          "name": "stdout",
          "text": [
            "Requirement already satisfied: Faker in /usr/local/lib/python3.10/dist-packages (26.1.0)\n",
            "Requirement already satisfied: python-dateutil>=2.4 in /usr/local/lib/python3.10/dist-packages (from Faker) (2.8.2)\n",
            "Requirement already satisfied: six>=1.5 in /usr/local/lib/python3.10/dist-packages (from python-dateutil>=2.4->Faker) (1.16.0)\n"
          ]
        }
      ],
      "source": [
        "!pip install Faker\n"
      ]
    },
    {
      "cell_type": "code",
      "source": [
        "import pandas as pd\n",
        "from faker import Faker\n",
        "import random\n",
        "\n",
        "#initialisation du Faker pour la génération synthetique des données\n",
        "fake = Faker()\n",
        "\n",
        "#setting seed for reproduccibility (get the same data every time u use it)\n",
        "Faker.seed(42)\n",
        "#seed heya l piece d'identité kima n9oulou lel les données mte3na puisque houma random\n",
        "\n",
        "#génération synthetique des données\n",
        "data = []\n",
        "for _ in range (1000):\n",
        "  data.append({\n",
        "      'name' : fake.name(),\n",
        "      'age' : random.randint(18, 70),\n",
        "      'email' : fake.email(),\n",
        "      'phone' : fake.phone_number(),\n",
        "      'address' : fake.address(),\n",
        "      'salary' : random.randint(20000, 150000),\n",
        "      'joint_date' : fake.date_this_decade(),\n",
        "      'employment_status' : random.choice(['Full-Time', 'Part-Time', 'Contract']),\n",
        "      'department' : random.choice(['IT', 'Finance', 'HR', 'Medical', 'Engeneering', 'Marketing'])\n",
        "  })"
      ],
      "metadata": {
        "id": "xnR1FsPHcz35"
      },
      "execution_count": 80,
      "outputs": []
    },
    {
      "cell_type": "code",
      "source": [
        "print(data[0])"
      ],
      "metadata": {
        "colab": {
          "base_uri": "https://localhost:8080/"
        },
        "id": "ISFGow3BhIVg",
        "outputId": "e8e5268d-0838-4efb-d42a-a50bae0dbc34"
      },
      "execution_count": 81,
      "outputs": [
        {
          "output_type": "stream",
          "name": "stdout",
          "text": [
            "{'name': 'Allison Hill', 'age': 38, 'email': 'donaldgarcia@example.net', 'phone': '+1-219-560-0133', 'address': '79402 Peterson Drives Apt. 511\\nDavisstad, PA 35172', 'salary': 140799, 'joint_date': datetime.date(2023, 9, 16), 'employment_status': 'Part-Time', 'department': 'Engeneering'}\n"
          ]
        }
      ]
    },
    {
      "cell_type": "code",
      "source": [
        "print(data[1])"
      ],
      "metadata": {
        "colab": {
          "base_uri": "https://localhost:8080/"
        },
        "id": "PqHGUNukhbDw",
        "outputId": "71fea346-4781-408e-b773-af8b7cd4a02a"
      },
      "execution_count": 82,
      "outputs": [
        {
          "output_type": "stream",
          "name": "stdout",
          "text": [
            "{'name': 'Kimberly Dudley', 'age': 42, 'email': 'smiller@example.net', 'phone': '+1-659-931-0341x316', 'address': '55341 Amanda Gardens Apt. 764\\nLake Mark, WI 07832', 'salary': 138471, 'joint_date': datetime.date(2021, 1, 19), 'employment_status': 'Full-Time', 'department': 'Engeneering'}\n"
          ]
        }
      ]
    },
    {
      "cell_type": "code",
      "source": [
        "#tweaking the records a bit\n",
        "#introduce some missing values\n",
        "for i in random.sample(range(len(data)), 50):\n",
        "  data[i]['email'] = None"
      ],
      "metadata": {
        "id": "yuZ3sIwvmBmy"
      },
      "execution_count": 83,
      "outputs": []
    },
    {
      "cell_type": "code",
      "source": [
        "#introduce some duplicate records\n",
        "data.extend(random.sample(data, 100))"
      ],
      "metadata": {
        "id": "0TopfzLVZhzR"
      },
      "execution_count": 84,
      "outputs": []
    },
    {
      "cell_type": "code",
      "source": [
        "#add/introduce some outliers(not in the range fixed)\n",
        "for i in random.sample(range(len(data)), 20):\n",
        "  data[i]['salary'] = random.randint(200000, 500000)"
      ],
      "metadata": {
        "id": "LCNiGTLNZ60D"
      },
      "execution_count": 85,
      "outputs": []
    },
    {
      "cell_type": "code",
      "source": [
        "for i in range(10):\n",
        "  print(data[i])"
      ],
      "metadata": {
        "colab": {
          "base_uri": "https://localhost:8080/"
        },
        "id": "b6qfPe76aY5B",
        "outputId": "f207c2ed-ff38-4a76-cd36-6f4a77c18b0a"
      },
      "execution_count": 86,
      "outputs": [
        {
          "output_type": "stream",
          "name": "stdout",
          "text": [
            "{'name': 'Allison Hill', 'age': 38, 'email': 'donaldgarcia@example.net', 'phone': '+1-219-560-0133', 'address': '79402 Peterson Drives Apt. 511\\nDavisstad, PA 35172', 'salary': 140799, 'joint_date': datetime.date(2023, 9, 16), 'employment_status': 'Part-Time', 'department': 'Engeneering'}\n",
            "{'name': 'Kimberly Dudley', 'age': 42, 'email': 'smiller@example.net', 'phone': '+1-659-931-0341x316', 'address': '55341 Amanda Gardens Apt. 764\\nLake Mark, WI 07832', 'salary': 138471, 'joint_date': datetime.date(2021, 1, 19), 'employment_status': 'Full-Time', 'department': 'Engeneering'}\n",
            "{'name': 'Ethan Adams', 'age': 36, 'email': 'robinbradley@example.net', 'phone': '837-767-2423x88496', 'address': '710 Eric Estate\\nCarlsonfurt, MS 78605', 'salary': 70736, 'joint_date': datetime.date(2024, 7, 29), 'employment_status': 'Part-Time', 'department': 'Medical'}\n",
            "{'name': 'Tricia Valencia', 'age': 38, 'email': 'frazierdanny@example.net', 'phone': '001-645-514-6270x48281', 'address': '809 Burns Creek\\nNatashaport, IA 08093', 'salary': 95897, 'joint_date': datetime.date(2021, 2, 8), 'employment_status': 'Part-Time', 'department': 'Finance'}\n",
            "{'name': 'Angela Dennis', 'age': 58, 'email': 'spenceamanda@example.org', 'phone': '(578)624-8963', 'address': '8713 Caleb Brooks Apt. 930\\nLake Crystalbury, CA 04618', 'salary': 54449, 'joint_date': datetime.date(2023, 12, 13), 'employment_status': 'Contract', 'department': 'HR'}\n",
            "{'name': 'David Caldwell', 'age': 55, 'email': 'ambercummings@example.net', 'phone': '001-773-876-3116', 'address': '106 Mcbride Coves\\nEast James, NV 18874', 'salary': 96929, 'joint_date': datetime.date(2021, 12, 8), 'employment_status': 'Contract', 'department': 'HR'}\n",
            "{'name': 'David Leblanc', 'age': 19, 'email': 'jmorton@example.org', 'phone': '5808132677', 'address': 'PSC 2606, Box 4746\\nAPO AP 96249', 'salary': 111644, 'joint_date': datetime.date(2024, 7, 28), 'employment_status': 'Part-Time', 'department': 'Engeneering'}\n",
            "{'name': 'Michelle Moore', 'age': 20, 'email': 'jeff09@example.net', 'phone': '+1-405-200-9788', 'address': 'USS York\\nFPO AE 78493', 'salary': 27026, 'joint_date': datetime.date(2020, 4, 24), 'employment_status': 'Full-Time', 'department': 'Finance'}\n",
            "{'name': 'Jennifer David', 'age': 31, 'email': 'bethwilliams@example.org', 'phone': '(799)385-4353x46247', 'address': '83842 Ibarra Gardens\\nJustinmouth, MP 71701', 'salary': 114069, 'joint_date': datetime.date(2023, 3, 26), 'employment_status': 'Full-Time', 'department': 'Marketing'}\n",
            "{'name': 'Victoria Valdez', 'age': 66, 'email': 'contrerasangela@example.net', 'phone': '524-711-8244', 'address': '740 Cynthia Village Suite 005\\nLake Tina, GA 97655', 'salary': 105688, 'joint_date': datetime.date(2022, 1, 11), 'employment_status': 'Contract', 'department': 'Marketing'}\n"
          ]
        }
      ]
    },
    {
      "cell_type": "code",
      "source": [
        "#create dataframe\n",
        "df = pd.DataFrame(data)"
      ],
      "metadata": {
        "id": "fEy99DHSbu0p"
      },
      "execution_count": 87,
      "outputs": []
    },
    {
      "cell_type": "code",
      "source": [
        "print(df)"
      ],
      "metadata": {
        "colab": {
          "base_uri": "https://localhost:8080/"
        },
        "id": "7VV4kor7b8La",
        "outputId": "9ffa3a46-29ab-4c94-f5bd-6de1be5f9a70"
      },
      "execution_count": 88,
      "outputs": [
        {
          "output_type": "stream",
          "name": "stdout",
          "text": [
            "                   name  age                      email  \\\n",
            "0          Allison Hill   38   donaldgarcia@example.net   \n",
            "1       Kimberly Dudley   42        smiller@example.net   \n",
            "2           Ethan Adams   36   robinbradley@example.net   \n",
            "3       Tricia Valencia   38   frazierdanny@example.net   \n",
            "4         Angela Dennis   58   spenceamanda@example.org   \n",
            "...                 ...  ...                        ...   \n",
            "1095      Michael Berry   35  ericksonlaura@example.com   \n",
            "1096           Amy Boyd   45     clarkmindy@example.com   \n",
            "1097       Kyle Randall   56    gabrielle36@example.org   \n",
            "1098    Mr. Jason Salas   36     johnwarner@example.net   \n",
            "1099  Victoria Marshall   65  stevenssamuel@example.net   \n",
            "\n",
            "                       phone  \\\n",
            "0            +1-219-560-0133   \n",
            "1        +1-659-931-0341x316   \n",
            "2         837-767-2423x88496   \n",
            "3     001-645-514-6270x48281   \n",
            "4              (578)624-8963   \n",
            "...                      ...   \n",
            "1095      848-970-8477x95417   \n",
            "1096     +1-946-660-4903x764   \n",
            "1097            737-611-8151   \n",
            "1098      (905)930-2618x4025   \n",
            "1099     (612)608-7805x72151   \n",
            "\n",
            "                                                address  salary  joint_date  \\\n",
            "0     79402 Peterson Drives Apt. 511\\nDavisstad, PA ...  140799  2023-09-16   \n",
            "1     55341 Amanda Gardens Apt. 764\\nLake Mark, WI 0...  138471  2021-01-19   \n",
            "2                710 Eric Estate\\nCarlsonfurt, MS 78605   70736  2024-07-29   \n",
            "3                809 Burns Creek\\nNatashaport, IA 08093   95897  2021-02-08   \n",
            "4     8713 Caleb Brooks Apt. 930\\nLake Crystalbury, ...   54449  2023-12-13   \n",
            "...                                                 ...     ...         ...   \n",
            "1095           818 Megan Summit\\nSouth Willie, MI 76940   85573  2020-04-18   \n",
            "1096         161 Gregory Valleys\\nBradleybury, VA 75808   97335  2023-10-01   \n",
            "1097   420 Cynthia Valley\\nNorth Michaelmouth, WV 31849  109504  2021-04-11   \n",
            "1098  605 Phillip Canyon Suite 636\\nWest Bradleyhave...  110616  2020-05-27   \n",
            "1099                           USS Reeves\\nFPO AA 56970   28643  2023-03-27   \n",
            "\n",
            "     employment_status   department  \n",
            "0            Part-Time  Engeneering  \n",
            "1            Full-Time  Engeneering  \n",
            "2            Part-Time      Medical  \n",
            "3            Part-Time      Finance  \n",
            "4             Contract           HR  \n",
            "...                ...          ...  \n",
            "1095          Contract  Engeneering  \n",
            "1096         Full-Time    Marketing  \n",
            "1097         Part-Time           HR  \n",
            "1098          Contract      Medical  \n",
            "1099         Full-Time  Engeneering  \n",
            "\n",
            "[1100 rows x 9 columns]\n"
          ]
        }
      ]
    },
    {
      "cell_type": "code",
      "source": [
        "df.info()"
      ],
      "metadata": {
        "colab": {
          "base_uri": "https://localhost:8080/"
        },
        "id": "YAfg_ioecaYy",
        "outputId": "7c7b65dc-aba9-4623-c20d-23c63455ab24"
      },
      "execution_count": 89,
      "outputs": [
        {
          "output_type": "stream",
          "name": "stdout",
          "text": [
            "<class 'pandas.core.frame.DataFrame'>\n",
            "RangeIndex: 1100 entries, 0 to 1099\n",
            "Data columns (total 9 columns):\n",
            " #   Column             Non-Null Count  Dtype \n",
            "---  ------             --------------  ----- \n",
            " 0   name               1100 non-null   object\n",
            " 1   age                1100 non-null   int64 \n",
            " 2   email              1044 non-null   object\n",
            " 3   phone              1100 non-null   object\n",
            " 4   address            1100 non-null   object\n",
            " 5   salary             1100 non-null   int64 \n",
            " 6   joint_date         1100 non-null   object\n",
            " 7   employment_status  1100 non-null   object\n",
            " 8   department         1100 non-null   object\n",
            "dtypes: int64(2), object(7)\n",
            "memory usage: 77.5+ KB\n"
          ]
        }
      ]
    },
    {
      "cell_type": "code",
      "source": [
        "df.head()\n",
        "#display the first 5 rows automatically"
      ],
      "metadata": {
        "colab": {
          "base_uri": "https://localhost:8080/",
          "height": 434
        },
        "id": "kwGuTUFGdHxb",
        "outputId": "1971dd9d-c090-4e11-9c05-1c9df03d1a40"
      },
      "execution_count": 90,
      "outputs": [
        {
          "output_type": "execute_result",
          "data": {
            "text/plain": [
              "              name  age                     email                   phone  \\\n",
              "0     Allison Hill   38  donaldgarcia@example.net         +1-219-560-0133   \n",
              "1  Kimberly Dudley   42       smiller@example.net     +1-659-931-0341x316   \n",
              "2      Ethan Adams   36  robinbradley@example.net      837-767-2423x88496   \n",
              "3  Tricia Valencia   38  frazierdanny@example.net  001-645-514-6270x48281   \n",
              "4    Angela Dennis   58  spenceamanda@example.org           (578)624-8963   \n",
              "\n",
              "                                             address  salary  joint_date  \\\n",
              "0  79402 Peterson Drives Apt. 511\\nDavisstad, PA ...  140799  2023-09-16   \n",
              "1  55341 Amanda Gardens Apt. 764\\nLake Mark, WI 0...  138471  2021-01-19   \n",
              "2             710 Eric Estate\\nCarlsonfurt, MS 78605   70736  2024-07-29   \n",
              "3             809 Burns Creek\\nNatashaport, IA 08093   95897  2021-02-08   \n",
              "4  8713 Caleb Brooks Apt. 930\\nLake Crystalbury, ...   54449  2023-12-13   \n",
              "\n",
              "  employment_status   department  \n",
              "0         Part-Time  Engeneering  \n",
              "1         Full-Time  Engeneering  \n",
              "2         Part-Time      Medical  \n",
              "3         Part-Time      Finance  \n",
              "4          Contract           HR  "
            ],
            "text/html": [
              "\n",
              "  <div id=\"df-e06b185d-235e-451f-867c-f26d250b7ace\" class=\"colab-df-container\">\n",
              "    <div>\n",
              "<style scoped>\n",
              "    .dataframe tbody tr th:only-of-type {\n",
              "        vertical-align: middle;\n",
              "    }\n",
              "\n",
              "    .dataframe tbody tr th {\n",
              "        vertical-align: top;\n",
              "    }\n",
              "\n",
              "    .dataframe thead th {\n",
              "        text-align: right;\n",
              "    }\n",
              "</style>\n",
              "<table border=\"1\" class=\"dataframe\">\n",
              "  <thead>\n",
              "    <tr style=\"text-align: right;\">\n",
              "      <th></th>\n",
              "      <th>name</th>\n",
              "      <th>age</th>\n",
              "      <th>email</th>\n",
              "      <th>phone</th>\n",
              "      <th>address</th>\n",
              "      <th>salary</th>\n",
              "      <th>joint_date</th>\n",
              "      <th>employment_status</th>\n",
              "      <th>department</th>\n",
              "    </tr>\n",
              "  </thead>\n",
              "  <tbody>\n",
              "    <tr>\n",
              "      <th>0</th>\n",
              "      <td>Allison Hill</td>\n",
              "      <td>38</td>\n",
              "      <td>donaldgarcia@example.net</td>\n",
              "      <td>+1-219-560-0133</td>\n",
              "      <td>79402 Peterson Drives Apt. 511\\nDavisstad, PA ...</td>\n",
              "      <td>140799</td>\n",
              "      <td>2023-09-16</td>\n",
              "      <td>Part-Time</td>\n",
              "      <td>Engeneering</td>\n",
              "    </tr>\n",
              "    <tr>\n",
              "      <th>1</th>\n",
              "      <td>Kimberly Dudley</td>\n",
              "      <td>42</td>\n",
              "      <td>smiller@example.net</td>\n",
              "      <td>+1-659-931-0341x316</td>\n",
              "      <td>55341 Amanda Gardens Apt. 764\\nLake Mark, WI 0...</td>\n",
              "      <td>138471</td>\n",
              "      <td>2021-01-19</td>\n",
              "      <td>Full-Time</td>\n",
              "      <td>Engeneering</td>\n",
              "    </tr>\n",
              "    <tr>\n",
              "      <th>2</th>\n",
              "      <td>Ethan Adams</td>\n",
              "      <td>36</td>\n",
              "      <td>robinbradley@example.net</td>\n",
              "      <td>837-767-2423x88496</td>\n",
              "      <td>710 Eric Estate\\nCarlsonfurt, MS 78605</td>\n",
              "      <td>70736</td>\n",
              "      <td>2024-07-29</td>\n",
              "      <td>Part-Time</td>\n",
              "      <td>Medical</td>\n",
              "    </tr>\n",
              "    <tr>\n",
              "      <th>3</th>\n",
              "      <td>Tricia Valencia</td>\n",
              "      <td>38</td>\n",
              "      <td>frazierdanny@example.net</td>\n",
              "      <td>001-645-514-6270x48281</td>\n",
              "      <td>809 Burns Creek\\nNatashaport, IA 08093</td>\n",
              "      <td>95897</td>\n",
              "      <td>2021-02-08</td>\n",
              "      <td>Part-Time</td>\n",
              "      <td>Finance</td>\n",
              "    </tr>\n",
              "    <tr>\n",
              "      <th>4</th>\n",
              "      <td>Angela Dennis</td>\n",
              "      <td>58</td>\n",
              "      <td>spenceamanda@example.org</td>\n",
              "      <td>(578)624-8963</td>\n",
              "      <td>8713 Caleb Brooks Apt. 930\\nLake Crystalbury, ...</td>\n",
              "      <td>54449</td>\n",
              "      <td>2023-12-13</td>\n",
              "      <td>Contract</td>\n",
              "      <td>HR</td>\n",
              "    </tr>\n",
              "  </tbody>\n",
              "</table>\n",
              "</div>\n",
              "    <div class=\"colab-df-buttons\">\n",
              "\n",
              "  <div class=\"colab-df-container\">\n",
              "    <button class=\"colab-df-convert\" onclick=\"convertToInteractive('df-e06b185d-235e-451f-867c-f26d250b7ace')\"\n",
              "            title=\"Convert this dataframe to an interactive table.\"\n",
              "            style=\"display:none;\">\n",
              "\n",
              "  <svg xmlns=\"http://www.w3.org/2000/svg\" height=\"24px\" viewBox=\"0 -960 960 960\">\n",
              "    <path d=\"M120-120v-720h720v720H120Zm60-500h600v-160H180v160Zm220 220h160v-160H400v160Zm0 220h160v-160H400v160ZM180-400h160v-160H180v160Zm440 0h160v-160H620v160ZM180-180h160v-160H180v160Zm440 0h160v-160H620v160Z\"/>\n",
              "  </svg>\n",
              "    </button>\n",
              "\n",
              "  <style>\n",
              "    .colab-df-container {\n",
              "      display:flex;\n",
              "      gap: 12px;\n",
              "    }\n",
              "\n",
              "    .colab-df-convert {\n",
              "      background-color: #E8F0FE;\n",
              "      border: none;\n",
              "      border-radius: 50%;\n",
              "      cursor: pointer;\n",
              "      display: none;\n",
              "      fill: #1967D2;\n",
              "      height: 32px;\n",
              "      padding: 0 0 0 0;\n",
              "      width: 32px;\n",
              "    }\n",
              "\n",
              "    .colab-df-convert:hover {\n",
              "      background-color: #E2EBFA;\n",
              "      box-shadow: 0px 1px 2px rgba(60, 64, 67, 0.3), 0px 1px 3px 1px rgba(60, 64, 67, 0.15);\n",
              "      fill: #174EA6;\n",
              "    }\n",
              "\n",
              "    .colab-df-buttons div {\n",
              "      margin-bottom: 4px;\n",
              "    }\n",
              "\n",
              "    [theme=dark] .colab-df-convert {\n",
              "      background-color: #3B4455;\n",
              "      fill: #D2E3FC;\n",
              "    }\n",
              "\n",
              "    [theme=dark] .colab-df-convert:hover {\n",
              "      background-color: #434B5C;\n",
              "      box-shadow: 0px 1px 3px 1px rgba(0, 0, 0, 0.15);\n",
              "      filter: drop-shadow(0px 1px 2px rgba(0, 0, 0, 0.3));\n",
              "      fill: #FFFFFF;\n",
              "    }\n",
              "  </style>\n",
              "\n",
              "    <script>\n",
              "      const buttonEl =\n",
              "        document.querySelector('#df-e06b185d-235e-451f-867c-f26d250b7ace button.colab-df-convert');\n",
              "      buttonEl.style.display =\n",
              "        google.colab.kernel.accessAllowed ? 'block' : 'none';\n",
              "\n",
              "      async function convertToInteractive(key) {\n",
              "        const element = document.querySelector('#df-e06b185d-235e-451f-867c-f26d250b7ace');\n",
              "        const dataTable =\n",
              "          await google.colab.kernel.invokeFunction('convertToInteractive',\n",
              "                                                    [key], {});\n",
              "        if (!dataTable) return;\n",
              "\n",
              "        const docLinkHtml = 'Like what you see? Visit the ' +\n",
              "          '<a target=\"_blank\" href=https://colab.research.google.com/notebooks/data_table.ipynb>data table notebook</a>'\n",
              "          + ' to learn more about interactive tables.';\n",
              "        element.innerHTML = '';\n",
              "        dataTable['output_type'] = 'display_data';\n",
              "        await google.colab.output.renderOutput(dataTable, element);\n",
              "        const docLink = document.createElement('div');\n",
              "        docLink.innerHTML = docLinkHtml;\n",
              "        element.appendChild(docLink);\n",
              "      }\n",
              "    </script>\n",
              "  </div>\n",
              "\n",
              "\n",
              "<div id=\"df-dfbb3523-9685-4139-9072-f15675f9f4a1\">\n",
              "  <button class=\"colab-df-quickchart\" onclick=\"quickchart('df-dfbb3523-9685-4139-9072-f15675f9f4a1')\"\n",
              "            title=\"Suggest charts\"\n",
              "            style=\"display:none;\">\n",
              "\n",
              "<svg xmlns=\"http://www.w3.org/2000/svg\" height=\"24px\"viewBox=\"0 0 24 24\"\n",
              "     width=\"24px\">\n",
              "    <g>\n",
              "        <path d=\"M19 3H5c-1.1 0-2 .9-2 2v14c0 1.1.9 2 2 2h14c1.1 0 2-.9 2-2V5c0-1.1-.9-2-2-2zM9 17H7v-7h2v7zm4 0h-2V7h2v10zm4 0h-2v-4h2v4z\"/>\n",
              "    </g>\n",
              "</svg>\n",
              "  </button>\n",
              "\n",
              "<style>\n",
              "  .colab-df-quickchart {\n",
              "      --bg-color: #E8F0FE;\n",
              "      --fill-color: #1967D2;\n",
              "      --hover-bg-color: #E2EBFA;\n",
              "      --hover-fill-color: #174EA6;\n",
              "      --disabled-fill-color: #AAA;\n",
              "      --disabled-bg-color: #DDD;\n",
              "  }\n",
              "\n",
              "  [theme=dark] .colab-df-quickchart {\n",
              "      --bg-color: #3B4455;\n",
              "      --fill-color: #D2E3FC;\n",
              "      --hover-bg-color: #434B5C;\n",
              "      --hover-fill-color: #FFFFFF;\n",
              "      --disabled-bg-color: #3B4455;\n",
              "      --disabled-fill-color: #666;\n",
              "  }\n",
              "\n",
              "  .colab-df-quickchart {\n",
              "    background-color: var(--bg-color);\n",
              "    border: none;\n",
              "    border-radius: 50%;\n",
              "    cursor: pointer;\n",
              "    display: none;\n",
              "    fill: var(--fill-color);\n",
              "    height: 32px;\n",
              "    padding: 0;\n",
              "    width: 32px;\n",
              "  }\n",
              "\n",
              "  .colab-df-quickchart:hover {\n",
              "    background-color: var(--hover-bg-color);\n",
              "    box-shadow: 0 1px 2px rgba(60, 64, 67, 0.3), 0 1px 3px 1px rgba(60, 64, 67, 0.15);\n",
              "    fill: var(--button-hover-fill-color);\n",
              "  }\n",
              "\n",
              "  .colab-df-quickchart-complete:disabled,\n",
              "  .colab-df-quickchart-complete:disabled:hover {\n",
              "    background-color: var(--disabled-bg-color);\n",
              "    fill: var(--disabled-fill-color);\n",
              "    box-shadow: none;\n",
              "  }\n",
              "\n",
              "  .colab-df-spinner {\n",
              "    border: 2px solid var(--fill-color);\n",
              "    border-color: transparent;\n",
              "    border-bottom-color: var(--fill-color);\n",
              "    animation:\n",
              "      spin 1s steps(1) infinite;\n",
              "  }\n",
              "\n",
              "  @keyframes spin {\n",
              "    0% {\n",
              "      border-color: transparent;\n",
              "      border-bottom-color: var(--fill-color);\n",
              "      border-left-color: var(--fill-color);\n",
              "    }\n",
              "    20% {\n",
              "      border-color: transparent;\n",
              "      border-left-color: var(--fill-color);\n",
              "      border-top-color: var(--fill-color);\n",
              "    }\n",
              "    30% {\n",
              "      border-color: transparent;\n",
              "      border-left-color: var(--fill-color);\n",
              "      border-top-color: var(--fill-color);\n",
              "      border-right-color: var(--fill-color);\n",
              "    }\n",
              "    40% {\n",
              "      border-color: transparent;\n",
              "      border-right-color: var(--fill-color);\n",
              "      border-top-color: var(--fill-color);\n",
              "    }\n",
              "    60% {\n",
              "      border-color: transparent;\n",
              "      border-right-color: var(--fill-color);\n",
              "    }\n",
              "    80% {\n",
              "      border-color: transparent;\n",
              "      border-right-color: var(--fill-color);\n",
              "      border-bottom-color: var(--fill-color);\n",
              "    }\n",
              "    90% {\n",
              "      border-color: transparent;\n",
              "      border-bottom-color: var(--fill-color);\n",
              "    }\n",
              "  }\n",
              "</style>\n",
              "\n",
              "  <script>\n",
              "    async function quickchart(key) {\n",
              "      const quickchartButtonEl =\n",
              "        document.querySelector('#' + key + ' button');\n",
              "      quickchartButtonEl.disabled = true;  // To prevent multiple clicks.\n",
              "      quickchartButtonEl.classList.add('colab-df-spinner');\n",
              "      try {\n",
              "        const charts = await google.colab.kernel.invokeFunction(\n",
              "            'suggestCharts', [key], {});\n",
              "      } catch (error) {\n",
              "        console.error('Error during call to suggestCharts:', error);\n",
              "      }\n",
              "      quickchartButtonEl.classList.remove('colab-df-spinner');\n",
              "      quickchartButtonEl.classList.add('colab-df-quickchart-complete');\n",
              "    }\n",
              "    (() => {\n",
              "      let quickchartButtonEl =\n",
              "        document.querySelector('#df-dfbb3523-9685-4139-9072-f15675f9f4a1 button');\n",
              "      quickchartButtonEl.style.display =\n",
              "        google.colab.kernel.accessAllowed ? 'block' : 'none';\n",
              "    })();\n",
              "  </script>\n",
              "</div>\n",
              "\n",
              "    </div>\n",
              "  </div>\n"
            ],
            "application/vnd.google.colaboratory.intrinsic+json": {
              "type": "dataframe",
              "summary": "{\n  \"name\": \"#display the first 5 rows automatically\",\n  \"rows\": 5,\n  \"fields\": [\n    {\n      \"column\": \"name\",\n      \"properties\": {\n        \"dtype\": \"string\",\n        \"num_unique_values\": 5,\n        \"samples\": [\n          \"Kimberly Dudley\",\n          \"Angela Dennis\",\n          \"Ethan Adams\"\n        ],\n        \"semantic_type\": \"\",\n        \"description\": \"\"\n      }\n    },\n    {\n      \"column\": \"age\",\n      \"properties\": {\n        \"dtype\": \"number\",\n        \"std\": 8,\n        \"min\": 36,\n        \"max\": 58,\n        \"num_unique_values\": 4,\n        \"samples\": [\n          42,\n          58,\n          38\n        ],\n        \"semantic_type\": \"\",\n        \"description\": \"\"\n      }\n    },\n    {\n      \"column\": \"email\",\n      \"properties\": {\n        \"dtype\": \"string\",\n        \"num_unique_values\": 5,\n        \"samples\": [\n          \"smiller@example.net\",\n          \"spenceamanda@example.org\",\n          \"robinbradley@example.net\"\n        ],\n        \"semantic_type\": \"\",\n        \"description\": \"\"\n      }\n    },\n    {\n      \"column\": \"phone\",\n      \"properties\": {\n        \"dtype\": \"string\",\n        \"num_unique_values\": 5,\n        \"samples\": [\n          \"+1-659-931-0341x316\",\n          \"(578)624-8963\",\n          \"837-767-2423x88496\"\n        ],\n        \"semantic_type\": \"\",\n        \"description\": \"\"\n      }\n    },\n    {\n      \"column\": \"address\",\n      \"properties\": {\n        \"dtype\": \"string\",\n        \"num_unique_values\": 5,\n        \"samples\": [\n          \"55341 Amanda Gardens Apt. 764\\nLake Mark, WI 07832\",\n          \"8713 Caleb Brooks Apt. 930\\nLake Crystalbury, CA 04618\",\n          \"710 Eric Estate\\nCarlsonfurt, MS 78605\"\n        ],\n        \"semantic_type\": \"\",\n        \"description\": \"\"\n      }\n    },\n    {\n      \"column\": \"salary\",\n      \"properties\": {\n        \"dtype\": \"number\",\n        \"std\": 39027,\n        \"min\": 54449,\n        \"max\": 140799,\n        \"num_unique_values\": 5,\n        \"samples\": [\n          138471,\n          54449,\n          70736\n        ],\n        \"semantic_type\": \"\",\n        \"description\": \"\"\n      }\n    },\n    {\n      \"column\": \"joint_date\",\n      \"properties\": {\n        \"dtype\": \"date\",\n        \"min\": \"2021-01-19\",\n        \"max\": \"2024-07-29\",\n        \"num_unique_values\": 5,\n        \"samples\": [\n          \"2021-01-19\",\n          \"2023-12-13\",\n          \"2024-07-29\"\n        ],\n        \"semantic_type\": \"\",\n        \"description\": \"\"\n      }\n    },\n    {\n      \"column\": \"employment_status\",\n      \"properties\": {\n        \"dtype\": \"string\",\n        \"num_unique_values\": 3,\n        \"samples\": [\n          \"Part-Time\",\n          \"Full-Time\",\n          \"Contract\"\n        ],\n        \"semantic_type\": \"\",\n        \"description\": \"\"\n      }\n    },\n    {\n      \"column\": \"department\",\n      \"properties\": {\n        \"dtype\": \"string\",\n        \"num_unique_values\": 4,\n        \"samples\": [\n          \"Medical\",\n          \"HR\",\n          \"Engeneering\"\n        ],\n        \"semantic_type\": \"\",\n        \"description\": \"\"\n      }\n    }\n  ]\n}"
            }
          },
          "metadata": {},
          "execution_count": 90
        }
      ]
    },
    {
      "cell_type": "code",
      "source": [
        "#check for duplicate rows\n",
        "duplicates = df.duplicated().sum()\n",
        "print(\"number of duplicate rows: \", duplicates)"
      ],
      "metadata": {
        "colab": {
          "base_uri": "https://localhost:8080/"
        },
        "id": "3e_JoMhCdtlq",
        "outputId": "6461c771-b140-4bec-dfeb-f37aab283a8c"
      },
      "execution_count": 91,
      "outputs": [
        {
          "output_type": "stream",
          "name": "stdout",
          "text": [
            "number of duplicate rows:  100\n"
          ]
        }
      ]
    },
    {
      "cell_type": "code",
      "source": [
        "#removing duplicate rows\n",
        "df.drop_duplicates(inplace=True)"
      ],
      "metadata": {
        "id": "lvqvBrZIe9QS"
      },
      "execution_count": 92,
      "outputs": []
    },
    {
      "cell_type": "code",
      "source": [
        "#recheck for duplicate rows\n",
        "dupl = df.duplicated().sum()\n",
        "print(\"number of duplicate rows after recheck: \", dupl)"
      ],
      "metadata": {
        "colab": {
          "base_uri": "https://localhost:8080/"
        },
        "id": "gGhsAL3BfC65",
        "outputId": "48423666-74dc-4c2f-8e44-f2461ec1eaf0"
      },
      "execution_count": 93,
      "outputs": [
        {
          "output_type": "stream",
          "name": "stdout",
          "text": [
            "number of duplicate rows after recheck:  0\n"
          ]
        }
      ]
    },
    {
      "cell_type": "code",
      "source": [
        "#check for missing values\n",
        "missing_values = df.isna().sum()\n",
        "print(\"missing values: \")\n",
        "print(missing_values)"
      ],
      "metadata": {
        "colab": {
          "base_uri": "https://localhost:8080/"
        },
        "id": "zHaHBtLcfMbS",
        "outputId": "1ab67afe-8e8b-4932-e0ce-1c69677751fe"
      },
      "execution_count": 94,
      "outputs": [
        {
          "output_type": "stream",
          "name": "stdout",
          "text": [
            "missing values: \n",
            "name                  0\n",
            "age                   0\n",
            "email                50\n",
            "phone                 0\n",
            "address               0\n",
            "salary                0\n",
            "joint_date            0\n",
            "employment_status     0\n",
            "department            0\n",
            "dtype: int64\n"
          ]
        }
      ]
    },
    {
      "cell_type": "code",
      "source": [
        "# handling missing values by filling them with a placeholder\n",
        "df['email'].fillna('unknown@example.com', inplace = True)"
      ],
      "metadata": {
        "id": "BoCtTTPFjhLt"
      },
      "execution_count": 95,
      "outputs": []
    },
    {
      "cell_type": "code",
      "source": [
        "#convert 'joint_date' data type from object to datetime\n",
        "df['joint_date'] = pd.to_datetime(df['joint_date'])\n",
        "print(\"joint_date after conversion: \")\n",
        "print(df['joint_date'].head())"
      ],
      "metadata": {
        "colab": {
          "base_uri": "https://localhost:8080/"
        },
        "id": "THsebRxZk0X7",
        "outputId": "dc39e71c-c607-40e5-db65-50cca2d28501"
      },
      "execution_count": 96,
      "outputs": [
        {
          "output_type": "stream",
          "name": "stdout",
          "text": [
            "joint_date after conversion: \n",
            "0   2023-09-16\n",
            "1   2021-01-19\n",
            "2   2024-07-29\n",
            "3   2021-02-08\n",
            "4   2023-12-13\n",
            "Name: joint_date, dtype: datetime64[ns]\n"
          ]
        }
      ]
    },
    {
      "cell_type": "code",
      "source": [
        "df.rename(columns={'joint_date': 'join_date'}, inplace=True)\n",
        "df.info()"
      ],
      "metadata": {
        "colab": {
          "base_uri": "https://localhost:8080/"
        },
        "id": "19rhDN5olj60",
        "outputId": "749de240-56b3-4e08-c731-dad4a5333c74"
      },
      "execution_count": 97,
      "outputs": [
        {
          "output_type": "stream",
          "name": "stdout",
          "text": [
            "<class 'pandas.core.frame.DataFrame'>\n",
            "Index: 1000 entries, 0 to 999\n",
            "Data columns (total 9 columns):\n",
            " #   Column             Non-Null Count  Dtype         \n",
            "---  ------             --------------  -----         \n",
            " 0   name               1000 non-null   object        \n",
            " 1   age                1000 non-null   int64         \n",
            " 2   email              1000 non-null   object        \n",
            " 3   phone              1000 non-null   object        \n",
            " 4   address            1000 non-null   object        \n",
            " 5   salary             1000 non-null   int64         \n",
            " 6   join_date          1000 non-null   datetime64[ns]\n",
            " 7   employment_status  1000 non-null   object        \n",
            " 8   department         1000 non-null   object        \n",
            "dtypes: datetime64[ns](1), int64(2), object(6)\n",
            "memory usage: 78.1+ KB\n"
          ]
        }
      ]
    },
    {
      "cell_type": "code",
      "source": [
        "#creating a new feature 'years_employed' based on 'join_date'\n",
        "df['years_employed'] = pd.Timestamp.now().year - df['join_date'].dt.year\n",
        "print(\"new feature 'years_employed': \")\n",
        "print(df[['join_date', 'years_employed']].head())"
      ],
      "metadata": {
        "colab": {
          "base_uri": "https://localhost:8080/"
        },
        "id": "naMYT-QcmMC1",
        "outputId": "78ddf42b-90bd-40b7-f560-37ad83210afd"
      },
      "execution_count": 98,
      "outputs": [
        {
          "output_type": "stream",
          "name": "stdout",
          "text": [
            "new feature 'years_employed': \n",
            "   join_date  years_employed\n",
            "0 2023-09-16               1\n",
            "1 2021-01-19               3\n",
            "2 2024-07-29               0\n",
            "3 2021-02-08               3\n",
            "4 2023-12-13               1\n"
          ]
        }
      ]
    },
    {
      "cell_type": "code",
      "source": [
        "#clean address strings\n",
        "df['address'] = df['address'].str.replace('\\n', ' ', regex=False)\n",
        "print(\"address after text cleaning: \")\n",
        "print(df['address'].head())\n",
        "# regex=true is aiming for a type of the data\n",
        "# regex=false aimes for the match of the value itself"
      ],
      "metadata": {
        "colab": {
          "base_uri": "https://localhost:8080/"
        },
        "id": "lPuGwLMiohal",
        "outputId": "b4c174f4-259e-4d51-a9b2-37395af6b172"
      },
      "execution_count": 99,
      "outputs": [
        {
          "output_type": "stream",
          "name": "stdout",
          "text": [
            "address after text cleaning: \n",
            "0    79402 Peterson Drives Apt. 511 Davisstad, PA 3...\n",
            "1    55341 Amanda Gardens Apt. 764 Lake Mark, WI 07832\n",
            "2                710 Eric Estate Carlsonfurt, MS 78605\n",
            "3                809 Burns Creek Natashaport, IA 08093\n",
            "4    8713 Caleb Brooks Apt. 930 Lake Crystalbury, C...\n",
            "Name: address, dtype: object\n"
          ]
        }
      ]
    },
    {
      "cell_type": "code",
      "source": [
        "#detecting outliers using z-score\n",
        "z_scores = (df['salary'] - df['salary'].mean()) / df['salary'].std()\n",
        "outliers = df[abs(z_scores) > 3]\n",
        "print(\"outliers based on salary: \")\n",
        "print(outliers[['name', 'salary']].head())"
      ],
      "metadata": {
        "colab": {
          "base_uri": "https://localhost:8080/"
        },
        "id": "oHQBbVMgrdTx",
        "outputId": "23da636d-25ed-49d1-9141-439ba71744e9"
      },
      "execution_count": 100,
      "outputs": [
        {
          "output_type": "stream",
          "name": "stdout",
          "text": [
            "outliers based on salary: \n",
            "               name  salary\n",
            "279  Kelly Williams  484421\n",
            "399   Kirsten Perez  356113\n",
            "453   Leslie Hayden  482766\n",
            "460      Kayla Choi  291227\n",
            "508     Brian Wells  310076\n"
          ]
        }
      ]
    }
  ]
}